{
 "cells": [
  {
   "cell_type": "code",
   "execution_count": null,
   "metadata": {
    "collapsed": true,
    "pycharm": {
     "name": "#%%\n"
    }
   },
   "outputs": [],
   "source": [
    "import os\n",
    "import time\n",
    "import numpy as np\n",
    "import pandas as pd\n",
    "import seaborn as sns\n",
    "import matplotlib.pyplot as plt\n",
    "import plotly.express as px\n",
    "import plotly.graph_objects as go\n",
    "from plotly.subplots import make_subplots\n",
    "plt.style.use('seaborn')\n",
    "sns.set(font_scale=2)\n",
    "import warnings; warnings.filterwarnings('ignore')\n",
    "print"
   ]
  },
  {
   "cell_type": "code",
   "execution_count": null,
   "outputs": [],
   "source": [
    "name='Apple'\n",
    "data=pd.read_csv('../input/apple-stock-price-all-time/AAPL.csv')\n",
    "data['Date'] = pd.to_datetime(data['Date'])\n",
    "ds_df=data[-600:].reset_index(drop=True)\n",
    "ds_df2=data\n",
    "display(ds_df)"
   ],
   "metadata": {
    "collapsed": false,
    "pycharm": {
     "name": "#%%\n"
    }
   }
  },
  {
   "cell_type": "code",
   "execution_count": null,
   "outputs": [],
   "source": [
    "#fig=make_subplots(specs=[[{\"secondary_y\":True}]])\n",
    "fig = go.Figure(go.Candlestick(x=ds_df['Date'],open=ds_df['Open'],high=ds_df['High'],low=ds_df['Low'],close=ds_df['Close']))\n",
    "#fig.add_trace(go.Scatter(x=ds_df['Date'],y=ds_df['Close'],mode='lines',name='Close'))\n",
    "fig.update_layout(title='Candlestick', yaxis_title='USD',width=800,height=500,)\n",
    "fig.update_yaxes()\n",
    "fig.show()"
   ],
   "metadata": {
    "collapsed": false,
    "pycharm": {
     "name": "#%%\n"
    }
   }
  }
 ],
 "metadata": {
  "kernelspec": {
   "display_name": "Python 3",
   "language": "python",
   "name": "python3"
  },
  "language_info": {
   "codemirror_mode": {
    "name": "ipython",
    "version": 2
   },
   "file_extension": ".py",
   "mimetype": "text/x-python",
   "name": "python",
   "nbconvert_exporter": "python",
   "pygments_lexer": "ipython2",
   "version": "2.7.6"
  }
 },
 "nbformat": 4,
 "nbformat_minor": 0
}
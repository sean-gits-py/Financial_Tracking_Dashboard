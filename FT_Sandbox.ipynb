{
 "cells": [
  {
   "cell_type": "code",
   "execution_count": 357,
   "outputs": [
    {
     "name": "stdout",
     "output_type": "stream",
     "text": [
      "2022-05-13 19:35:00.363126\n"
     ]
    }
   ],
   "source": [
    "import datetime\n",
    "#now = datetime.datetime.now()\n",
    "import pylab as p\n",
    "\n",
    "print(datetime.datetime.now())"
   ],
   "metadata": {
    "collapsed": false,
    "pycharm": {
     "name": "#%%\n"
    }
   }
  },
  {
   "cell_type": "code",
   "execution_count": 358,
   "outputs": [
    {
     "name": "stdout",
     "output_type": "stream",
     "text": [
      "Completed 2022-05-13 19:35:02.523838\n"
     ]
    }
   ],
   "source": [
    "import os\n",
    "import time\n",
    "import numpy as np\n",
    "from tabulate import tabulate\n",
    "import pandas as pd\n",
    "#from pandas_datareader import data, wb\n",
    "import pandas_datareader.data as wb\n",
    "import seaborn as sns\n",
    "import matplotlib.pyplot as plt\n",
    "import plotly.express as px\n",
    "import plotly.graph_objects as go\n",
    "from plotly.subplots import make_subplots\n",
    "plt.style.use('seaborn')\n",
    "sns.set(font_scale=2)\n",
    "import warnings; warnings.filterwarnings('ignore')\n",
    "from dash import Dash, dcc, html, Input, Output\n",
    "print(\"Completed\",datetime.datetime.now())"
   ],
   "metadata": {
    "collapsed": false,
    "pycharm": {
     "name": "#%%\n"
    }
   }
  },
  {
   "cell_type": "code",
   "execution_count": 359,
   "outputs": [
    {
     "name": "stdout",
     "output_type": "stream",
     "text": [
      "Completed 2022-05-13 19:35:04.579776\n"
     ]
    }
   ],
   "source": [
    "start = pd.to_datetime('2022-05-01')\n",
    "end = pd.to_datetime('today')\n",
    "stocklist = ['AAPL', 'GOOG', 'AMD', 'MP', 'SOFI', 'NET']\n",
    "\n",
    "#print (\"Completed \" + now.strftime('%H:%M:%S on %A, %B the %dth, %Y'))\n",
    "print(\"Completed\",datetime.datetime.now())"
   ],
   "metadata": {
    "collapsed": false,
    "pycharm": {
     "name": "#%%\n"
    }
   }
  },
  {
   "cell_type": "code",
   "execution_count": 360,
   "outputs": [
    {
     "name": "stdout",
     "output_type": "stream",
     "text": [
      "Completed 2022-05-13 19:35:10.900047\n"
     ]
    }
   ],
   "source": [
    "df = wb.DataReader(stocklist, 'yahoo', start, end) #['Adj Close']\n",
    "\n",
    "print(\"Completed\",datetime.datetime.now())"
   ],
   "metadata": {
    "collapsed": false,
    "pycharm": {
     "name": "#%%\n"
    }
   }
  },
  {
   "cell_type": "code",
   "execution_count": 361,
   "outputs": [
    {
     "data": {
      "text/plain": "Attributes   Adj Close                                                      \\\nSymbols           AAPL         GOOG        AMD         MP  SOFI        NET   \nDate                                                                         \n2022-05-02  157.728256  2343.139893  89.839996  38.680000  6.33  89.910004   \n2022-05-03  159.246017  2362.590088  91.129997  39.529999  6.40  89.680000   \n2022-05-04  165.776428  2451.500000  99.419998  40.590000  7.14  90.400002   \n2022-05-05  156.540009  2334.929932  93.870003  39.750000  6.83  77.809998   \n2022-05-06  157.279999  2313.199951  95.339996  37.689999  6.44  65.610001   \n2022-05-09  152.059998  2261.679932  86.360001  38.290001  5.97  56.560001   \n2022-05-10  154.509995  2291.689941  88.730003  36.080002  5.25  56.980000   \n2022-05-11  146.500000  2279.219971  87.919998  34.200001  5.49  54.810001   \n2022-05-12  142.559998  2263.219971  87.059998  34.080002  5.66  56.730000   \n2022-05-13  147.110001  2330.310059  95.120003  35.480000  6.75  66.379997   \n\nAttributes       Close                                     ...       Open  \\\nSymbols           AAPL         GOOG        AMD         MP  ...        AMD   \nDate                                                       ...              \n2022-05-02  157.960007  2343.139893  89.839996  38.680000  ...  85.660004   \n2022-05-03  159.479996  2362.590088  91.129997  39.529999  ...  89.849998   \n2022-05-04  166.020004  2451.500000  99.419998  40.590000  ...  98.180000   \n2022-05-05  156.770004  2334.929932  93.870003  39.750000  ...  97.650002   \n2022-05-06  157.279999  2313.199951  95.339996  37.689999  ...  94.339996   \n2022-05-09  152.059998  2261.679932  86.360001  38.290001  ...  92.870003   \n2022-05-10  154.509995  2291.689941  88.730003  36.080002  ...  89.180000   \n2022-05-11  146.500000  2279.219971  87.919998  34.200001  ...  87.839996   \n2022-05-12  142.559998  2263.219971  87.059998  34.080002  ...  86.599998   \n2022-05-13  147.110001  2330.310059  95.120003  35.480000  ...  88.300003   \n\nAttributes                                    Volume                          \\\nSymbols            MP   SOFI        NET         AAPL       GOOG          AMD   \nDate                                                                           \n2022-05-02  37.500000  6.105  85.970001  123055300.0  1514000.0   98304100.0   \n2022-05-03  38.680000  6.280  89.730003   88966500.0  1060800.0  126381800.0   \n2022-05-04  39.700001  6.360  89.830002  108256500.0  1661600.0  225394100.0   \n2022-05-05  40.990002  7.050  88.199997  130525300.0  2154500.0  153129800.0   \n2022-05-06  40.000000  6.820  65.410004  116055700.0  1764000.0  144211500.0   \n2022-05-09  37.580002  6.230  63.169998  131577900.0  1726000.0  144523700.0   \n2022-05-10  39.020000  5.750  59.290001  115366700.0  1557900.0  137235500.0   \n2022-05-11  36.049999  5.210  56.540001  142689800.0  1825100.0  136137900.0   \n2022-05-12  33.259998  5.310  53.080002  182602000.0  2073200.0  129214200.0   \n2022-05-13  34.700001  6.080  59.119999  113787000.0  1486878.0  137970700.0   \n\nAttributes                                      \nSymbols            MP         SOFI         NET  \nDate                                            \n2022-05-02  2119000.0   43738400.0   3921000.0  \n2022-05-03  2008300.0   27381700.0   3274800.0  \n2022-05-04  2254500.0   77128300.0   7154800.0  \n2022-05-05  3700300.0   46638700.0  10345800.0  \n2022-05-06  4049600.0   50441700.0  16736800.0  \n2022-05-09  4012900.0   51638700.0   9819300.0  \n2022-05-10  4814900.0  125633800.0  11022100.0  \n2022-05-11  2929700.0   76698100.0   9128600.0  \n2022-05-12  2932700.0   66310000.0   8963300.0  \n2022-05-13  3141386.0   74842007.0   8849576.0  \n\n[10 rows x 36 columns]",
      "text/html": "<div>\n<style scoped>\n    .dataframe tbody tr th:only-of-type {\n        vertical-align: middle;\n    }\n\n    .dataframe tbody tr th {\n        vertical-align: top;\n    }\n\n    .dataframe thead tr th {\n        text-align: left;\n    }\n\n    .dataframe thead tr:last-of-type th {\n        text-align: right;\n    }\n</style>\n<table border=\"1\" class=\"dataframe\">\n  <thead>\n    <tr>\n      <th>Attributes</th>\n      <th colspan=\"6\" halign=\"left\">Adj Close</th>\n      <th colspan=\"4\" halign=\"left\">Close</th>\n      <th>...</th>\n      <th colspan=\"4\" halign=\"left\">Open</th>\n      <th colspan=\"6\" halign=\"left\">Volume</th>\n    </tr>\n    <tr>\n      <th>Symbols</th>\n      <th>AAPL</th>\n      <th>GOOG</th>\n      <th>AMD</th>\n      <th>MP</th>\n      <th>SOFI</th>\n      <th>NET</th>\n      <th>AAPL</th>\n      <th>GOOG</th>\n      <th>AMD</th>\n      <th>MP</th>\n      <th>...</th>\n      <th>AMD</th>\n      <th>MP</th>\n      <th>SOFI</th>\n      <th>NET</th>\n      <th>AAPL</th>\n      <th>GOOG</th>\n      <th>AMD</th>\n      <th>MP</th>\n      <th>SOFI</th>\n      <th>NET</th>\n    </tr>\n    <tr>\n      <th>Date</th>\n      <th></th>\n      <th></th>\n      <th></th>\n      <th></th>\n      <th></th>\n      <th></th>\n      <th></th>\n      <th></th>\n      <th></th>\n      <th></th>\n      <th></th>\n      <th></th>\n      <th></th>\n      <th></th>\n      <th></th>\n      <th></th>\n      <th></th>\n      <th></th>\n      <th></th>\n      <th></th>\n      <th></th>\n    </tr>\n  </thead>\n  <tbody>\n    <tr>\n      <th>2022-05-02</th>\n      <td>157.728256</td>\n      <td>2343.139893</td>\n      <td>89.839996</td>\n      <td>38.680000</td>\n      <td>6.33</td>\n      <td>89.910004</td>\n      <td>157.960007</td>\n      <td>2343.139893</td>\n      <td>89.839996</td>\n      <td>38.680000</td>\n      <td>...</td>\n      <td>85.660004</td>\n      <td>37.500000</td>\n      <td>6.105</td>\n      <td>85.970001</td>\n      <td>123055300.0</td>\n      <td>1514000.0</td>\n      <td>98304100.0</td>\n      <td>2119000.0</td>\n      <td>43738400.0</td>\n      <td>3921000.0</td>\n    </tr>\n    <tr>\n      <th>2022-05-03</th>\n      <td>159.246017</td>\n      <td>2362.590088</td>\n      <td>91.129997</td>\n      <td>39.529999</td>\n      <td>6.40</td>\n      <td>89.680000</td>\n      <td>159.479996</td>\n      <td>2362.590088</td>\n      <td>91.129997</td>\n      <td>39.529999</td>\n      <td>...</td>\n      <td>89.849998</td>\n      <td>38.680000</td>\n      <td>6.280</td>\n      <td>89.730003</td>\n      <td>88966500.0</td>\n      <td>1060800.0</td>\n      <td>126381800.0</td>\n      <td>2008300.0</td>\n      <td>27381700.0</td>\n      <td>3274800.0</td>\n    </tr>\n    <tr>\n      <th>2022-05-04</th>\n      <td>165.776428</td>\n      <td>2451.500000</td>\n      <td>99.419998</td>\n      <td>40.590000</td>\n      <td>7.14</td>\n      <td>90.400002</td>\n      <td>166.020004</td>\n      <td>2451.500000</td>\n      <td>99.419998</td>\n      <td>40.590000</td>\n      <td>...</td>\n      <td>98.180000</td>\n      <td>39.700001</td>\n      <td>6.360</td>\n      <td>89.830002</td>\n      <td>108256500.0</td>\n      <td>1661600.0</td>\n      <td>225394100.0</td>\n      <td>2254500.0</td>\n      <td>77128300.0</td>\n      <td>7154800.0</td>\n    </tr>\n    <tr>\n      <th>2022-05-05</th>\n      <td>156.540009</td>\n      <td>2334.929932</td>\n      <td>93.870003</td>\n      <td>39.750000</td>\n      <td>6.83</td>\n      <td>77.809998</td>\n      <td>156.770004</td>\n      <td>2334.929932</td>\n      <td>93.870003</td>\n      <td>39.750000</td>\n      <td>...</td>\n      <td>97.650002</td>\n      <td>40.990002</td>\n      <td>7.050</td>\n      <td>88.199997</td>\n      <td>130525300.0</td>\n      <td>2154500.0</td>\n      <td>153129800.0</td>\n      <td>3700300.0</td>\n      <td>46638700.0</td>\n      <td>10345800.0</td>\n    </tr>\n    <tr>\n      <th>2022-05-06</th>\n      <td>157.279999</td>\n      <td>2313.199951</td>\n      <td>95.339996</td>\n      <td>37.689999</td>\n      <td>6.44</td>\n      <td>65.610001</td>\n      <td>157.279999</td>\n      <td>2313.199951</td>\n      <td>95.339996</td>\n      <td>37.689999</td>\n      <td>...</td>\n      <td>94.339996</td>\n      <td>40.000000</td>\n      <td>6.820</td>\n      <td>65.410004</td>\n      <td>116055700.0</td>\n      <td>1764000.0</td>\n      <td>144211500.0</td>\n      <td>4049600.0</td>\n      <td>50441700.0</td>\n      <td>16736800.0</td>\n    </tr>\n    <tr>\n      <th>2022-05-09</th>\n      <td>152.059998</td>\n      <td>2261.679932</td>\n      <td>86.360001</td>\n      <td>38.290001</td>\n      <td>5.97</td>\n      <td>56.560001</td>\n      <td>152.059998</td>\n      <td>2261.679932</td>\n      <td>86.360001</td>\n      <td>38.290001</td>\n      <td>...</td>\n      <td>92.870003</td>\n      <td>37.580002</td>\n      <td>6.230</td>\n      <td>63.169998</td>\n      <td>131577900.0</td>\n      <td>1726000.0</td>\n      <td>144523700.0</td>\n      <td>4012900.0</td>\n      <td>51638700.0</td>\n      <td>9819300.0</td>\n    </tr>\n    <tr>\n      <th>2022-05-10</th>\n      <td>154.509995</td>\n      <td>2291.689941</td>\n      <td>88.730003</td>\n      <td>36.080002</td>\n      <td>5.25</td>\n      <td>56.980000</td>\n      <td>154.509995</td>\n      <td>2291.689941</td>\n      <td>88.730003</td>\n      <td>36.080002</td>\n      <td>...</td>\n      <td>89.180000</td>\n      <td>39.020000</td>\n      <td>5.750</td>\n      <td>59.290001</td>\n      <td>115366700.0</td>\n      <td>1557900.0</td>\n      <td>137235500.0</td>\n      <td>4814900.0</td>\n      <td>125633800.0</td>\n      <td>11022100.0</td>\n    </tr>\n    <tr>\n      <th>2022-05-11</th>\n      <td>146.500000</td>\n      <td>2279.219971</td>\n      <td>87.919998</td>\n      <td>34.200001</td>\n      <td>5.49</td>\n      <td>54.810001</td>\n      <td>146.500000</td>\n      <td>2279.219971</td>\n      <td>87.919998</td>\n      <td>34.200001</td>\n      <td>...</td>\n      <td>87.839996</td>\n      <td>36.049999</td>\n      <td>5.210</td>\n      <td>56.540001</td>\n      <td>142689800.0</td>\n      <td>1825100.0</td>\n      <td>136137900.0</td>\n      <td>2929700.0</td>\n      <td>76698100.0</td>\n      <td>9128600.0</td>\n    </tr>\n    <tr>\n      <th>2022-05-12</th>\n      <td>142.559998</td>\n      <td>2263.219971</td>\n      <td>87.059998</td>\n      <td>34.080002</td>\n      <td>5.66</td>\n      <td>56.730000</td>\n      <td>142.559998</td>\n      <td>2263.219971</td>\n      <td>87.059998</td>\n      <td>34.080002</td>\n      <td>...</td>\n      <td>86.599998</td>\n      <td>33.259998</td>\n      <td>5.310</td>\n      <td>53.080002</td>\n      <td>182602000.0</td>\n      <td>2073200.0</td>\n      <td>129214200.0</td>\n      <td>2932700.0</td>\n      <td>66310000.0</td>\n      <td>8963300.0</td>\n    </tr>\n    <tr>\n      <th>2022-05-13</th>\n      <td>147.110001</td>\n      <td>2330.310059</td>\n      <td>95.120003</td>\n      <td>35.480000</td>\n      <td>6.75</td>\n      <td>66.379997</td>\n      <td>147.110001</td>\n      <td>2330.310059</td>\n      <td>95.120003</td>\n      <td>35.480000</td>\n      <td>...</td>\n      <td>88.300003</td>\n      <td>34.700001</td>\n      <td>6.080</td>\n      <td>59.119999</td>\n      <td>113787000.0</td>\n      <td>1486878.0</td>\n      <td>137970700.0</td>\n      <td>3141386.0</td>\n      <td>74842007.0</td>\n      <td>8849576.0</td>\n    </tr>\n  </tbody>\n</table>\n<p>10 rows × 36 columns</p>\n</div>"
     },
     "execution_count": 361,
     "metadata": {},
     "output_type": "execute_result"
    }
   ],
   "source": [
    "df"
   ],
   "metadata": {
    "collapsed": false,
    "pycharm": {
     "name": "#%%\n"
    }
   }
  },
  {
   "cell_type": "code",
   "execution_count": 362,
   "outputs": [
    {
     "data": {
      "text/plain": "DatetimeIndex(['2022-05-02', '2022-05-03', '2022-05-04', '2022-05-05',\n               '2022-05-06', '2022-05-09', '2022-05-10', '2022-05-11',\n               '2022-05-12', '2022-05-13'],\n              dtype='datetime64[ns]', name='Date', freq=None)"
     },
     "execution_count": 362,
     "metadata": {},
     "output_type": "execute_result"
    }
   ],
   "source": [
    "df.index"
   ],
   "metadata": {
    "collapsed": false,
    "pycharm": {
     "name": "#%%\n"
    }
   }
  },
  {
   "cell_type": "code",
   "execution_count": 363,
   "outputs": [
    {
     "data": {
      "text/plain": "MultiIndex([(     'Date',     ''),\n            ('Adj Close', 'AAPL'),\n            ('Adj Close', 'GOOG'),\n            ('Adj Close',  'AMD'),\n            ('Adj Close',   'MP'),\n            ('Adj Close', 'SOFI'),\n            ('Adj Close',  'NET'),\n            (    'Close', 'AAPL'),\n            (    'Close', 'GOOG'),\n            (    'Close',  'AMD'),\n            (    'Close',   'MP'),\n            (    'Close', 'SOFI'),\n            (    'Close',  'NET'),\n            (     'High', 'AAPL'),\n            (     'High', 'GOOG'),\n            (     'High',  'AMD'),\n            (     'High',   'MP'),\n            (     'High', 'SOFI'),\n            (     'High',  'NET'),\n            (      'Low', 'AAPL'),\n            (      'Low', 'GOOG'),\n            (      'Low',  'AMD'),\n            (      'Low',   'MP'),\n            (      'Low', 'SOFI'),\n            (      'Low',  'NET'),\n            (     'Open', 'AAPL'),\n            (     'Open', 'GOOG'),\n            (     'Open',  'AMD'),\n            (     'Open',   'MP'),\n            (     'Open', 'SOFI'),\n            (     'Open',  'NET'),\n            (   'Volume', 'AAPL'),\n            (   'Volume', 'GOOG'),\n            (   'Volume',  'AMD'),\n            (   'Volume',   'MP'),\n            (   'Volume', 'SOFI'),\n            (   'Volume',  'NET')],\n           names=['Attributes', 'Symbols'])"
     },
     "execution_count": 363,
     "metadata": {},
     "output_type": "execute_result"
    }
   ],
   "source": [
    "df.reset_index().columns"
   ],
   "metadata": {
    "collapsed": false,
    "pycharm": {
     "name": "#%%\n"
    }
   }
  },
  {
   "cell_type": "code",
   "execution_count": 364,
   "outputs": [],
   "source": [
    "pivot_df = pd.melt(df.reset_index(), id_vars=[('Date','')], value_vars=[(price_type, c) for c in stocklist for price_type in ['Adj Close', 'Close', 'High', 'Low', 'Open', 'Volume']], value_name='Price')"
   ],
   "metadata": {
    "collapsed": false,
    "pycharm": {
     "name": "#%%\n"
    }
   }
  },
  {
   "cell_type": "code",
   "execution_count": 269,
   "outputs": [],
   "source": [
    "#pivot_df = pd.melt(df.reset_index(), id_vars=[('Date','')], value_vars=[(price_type, c) for c in stocklist for price_type in ['Adj Close', 'Close', 'High', 'Low', 'Open', 'Volume']], value_name='Price')"
   ],
   "metadata": {
    "collapsed": false,
    "pycharm": {
     "name": "#%%\n"
    }
   }
  },
  {
   "cell_type": "code",
   "execution_count": 365,
   "outputs": [
    {
     "data": {
      "text/plain": "      (Date, ) Attributes Symbols         Price\n0   2022-05-02  Adj Close    AAPL  1.577283e+02\n1   2022-05-03  Adj Close    AAPL  1.592460e+02\n2   2022-05-04  Adj Close    AAPL  1.657764e+02\n3   2022-05-05  Adj Close    AAPL  1.565400e+02\n4   2022-05-06  Adj Close    AAPL  1.572800e+02\n..         ...        ...     ...           ...\n355 2022-05-09     Volume     NET  9.819300e+06\n356 2022-05-10     Volume     NET  1.102210e+07\n357 2022-05-11     Volume     NET  9.128600e+06\n358 2022-05-12     Volume     NET  8.963300e+06\n359 2022-05-13     Volume     NET  8.849576e+06\n\n[360 rows x 4 columns]",
      "text/html": "<div>\n<style scoped>\n    .dataframe tbody tr th:only-of-type {\n        vertical-align: middle;\n    }\n\n    .dataframe tbody tr th {\n        vertical-align: top;\n    }\n\n    .dataframe thead th {\n        text-align: right;\n    }\n</style>\n<table border=\"1\" class=\"dataframe\">\n  <thead>\n    <tr style=\"text-align: right;\">\n      <th></th>\n      <th>(Date, )</th>\n      <th>Attributes</th>\n      <th>Symbols</th>\n      <th>Price</th>\n    </tr>\n  </thead>\n  <tbody>\n    <tr>\n      <th>0</th>\n      <td>2022-05-02</td>\n      <td>Adj Close</td>\n      <td>AAPL</td>\n      <td>1.577283e+02</td>\n    </tr>\n    <tr>\n      <th>1</th>\n      <td>2022-05-03</td>\n      <td>Adj Close</td>\n      <td>AAPL</td>\n      <td>1.592460e+02</td>\n    </tr>\n    <tr>\n      <th>2</th>\n      <td>2022-05-04</td>\n      <td>Adj Close</td>\n      <td>AAPL</td>\n      <td>1.657764e+02</td>\n    </tr>\n    <tr>\n      <th>3</th>\n      <td>2022-05-05</td>\n      <td>Adj Close</td>\n      <td>AAPL</td>\n      <td>1.565400e+02</td>\n    </tr>\n    <tr>\n      <th>4</th>\n      <td>2022-05-06</td>\n      <td>Adj Close</td>\n      <td>AAPL</td>\n      <td>1.572800e+02</td>\n    </tr>\n    <tr>\n      <th>...</th>\n      <td>...</td>\n      <td>...</td>\n      <td>...</td>\n      <td>...</td>\n    </tr>\n    <tr>\n      <th>355</th>\n      <td>2022-05-09</td>\n      <td>Volume</td>\n      <td>NET</td>\n      <td>9.819300e+06</td>\n    </tr>\n    <tr>\n      <th>356</th>\n      <td>2022-05-10</td>\n      <td>Volume</td>\n      <td>NET</td>\n      <td>1.102210e+07</td>\n    </tr>\n    <tr>\n      <th>357</th>\n      <td>2022-05-11</td>\n      <td>Volume</td>\n      <td>NET</td>\n      <td>9.128600e+06</td>\n    </tr>\n    <tr>\n      <th>358</th>\n      <td>2022-05-12</td>\n      <td>Volume</td>\n      <td>NET</td>\n      <td>8.963300e+06</td>\n    </tr>\n    <tr>\n      <th>359</th>\n      <td>2022-05-13</td>\n      <td>Volume</td>\n      <td>NET</td>\n      <td>8.849576e+06</td>\n    </tr>\n  </tbody>\n</table>\n<p>360 rows × 4 columns</p>\n</div>"
     },
     "execution_count": 365,
     "metadata": {},
     "output_type": "execute_result"
    }
   ],
   "source": [
    "pivot_df"
   ],
   "metadata": {
    "collapsed": false,
    "pycharm": {
     "name": "#%%\n"
    }
   }
  },
  {
   "cell_type": "code",
   "execution_count": 369,
   "outputs": [
    {
     "data": {
      "text/plain": "          Date  Attribute Symbol         Price\n0   2022-05-02  Adj Close   AAPL  1.577283e+02\n1   2022-05-03  Adj Close   AAPL  1.592460e+02\n2   2022-05-04  Adj Close   AAPL  1.657764e+02\n3   2022-05-05  Adj Close   AAPL  1.565400e+02\n4   2022-05-06  Adj Close   AAPL  1.572800e+02\n..         ...        ...    ...           ...\n355 2022-05-09     Volume    NET  9.819300e+06\n356 2022-05-10     Volume    NET  1.102210e+07\n357 2022-05-11     Volume    NET  9.128600e+06\n358 2022-05-12     Volume    NET  8.963300e+06\n359 2022-05-13     Volume    NET  8.849576e+06\n\n[360 rows x 4 columns]",
      "text/html": "<div>\n<style scoped>\n    .dataframe tbody tr th:only-of-type {\n        vertical-align: middle;\n    }\n\n    .dataframe tbody tr th {\n        vertical-align: top;\n    }\n\n    .dataframe thead th {\n        text-align: right;\n    }\n</style>\n<table border=\"1\" class=\"dataframe\">\n  <thead>\n    <tr style=\"text-align: right;\">\n      <th></th>\n      <th>Date</th>\n      <th>Attribute</th>\n      <th>Symbol</th>\n      <th>Price</th>\n    </tr>\n  </thead>\n  <tbody>\n    <tr>\n      <th>0</th>\n      <td>2022-05-02</td>\n      <td>Adj Close</td>\n      <td>AAPL</td>\n      <td>1.577283e+02</td>\n    </tr>\n    <tr>\n      <th>1</th>\n      <td>2022-05-03</td>\n      <td>Adj Close</td>\n      <td>AAPL</td>\n      <td>1.592460e+02</td>\n    </tr>\n    <tr>\n      <th>2</th>\n      <td>2022-05-04</td>\n      <td>Adj Close</td>\n      <td>AAPL</td>\n      <td>1.657764e+02</td>\n    </tr>\n    <tr>\n      <th>3</th>\n      <td>2022-05-05</td>\n      <td>Adj Close</td>\n      <td>AAPL</td>\n      <td>1.565400e+02</td>\n    </tr>\n    <tr>\n      <th>4</th>\n      <td>2022-05-06</td>\n      <td>Adj Close</td>\n      <td>AAPL</td>\n      <td>1.572800e+02</td>\n    </tr>\n    <tr>\n      <th>...</th>\n      <td>...</td>\n      <td>...</td>\n      <td>...</td>\n      <td>...</td>\n    </tr>\n    <tr>\n      <th>355</th>\n      <td>2022-05-09</td>\n      <td>Volume</td>\n      <td>NET</td>\n      <td>9.819300e+06</td>\n    </tr>\n    <tr>\n      <th>356</th>\n      <td>2022-05-10</td>\n      <td>Volume</td>\n      <td>NET</td>\n      <td>1.102210e+07</td>\n    </tr>\n    <tr>\n      <th>357</th>\n      <td>2022-05-11</td>\n      <td>Volume</td>\n      <td>NET</td>\n      <td>9.128600e+06</td>\n    </tr>\n    <tr>\n      <th>358</th>\n      <td>2022-05-12</td>\n      <td>Volume</td>\n      <td>NET</td>\n      <td>8.963300e+06</td>\n    </tr>\n    <tr>\n      <th>359</th>\n      <td>2022-05-13</td>\n      <td>Volume</td>\n      <td>NET</td>\n      <td>8.849576e+06</td>\n    </tr>\n  </tbody>\n</table>\n<p>360 rows × 4 columns</p>\n</div>"
     },
     "execution_count": 369,
     "metadata": {},
     "output_type": "execute_result"
    }
   ],
   "source": [
    "pivot_df.columns = ('Date', 'Attribute', 'Symbol', 'Price')\n",
    "pivot_df"
   ],
   "metadata": {
    "collapsed": false,
    "pycharm": {
     "name": "#%%\n"
    }
   }
  },
  {
   "cell_type": "code",
   "execution_count": 370,
   "outputs": [
    {
     "data": {
      "text/plain": "          Date  Attribute Symbol        Price\n0   2022-05-02  Adj Close   AAPL   157.728256\n1   2022-05-03  Adj Close   AAPL   159.246017\n2   2022-05-04  Adj Close   AAPL   165.776428\n3   2022-05-05  Adj Close   AAPL   156.540009\n4   2022-05-06  Adj Close   AAPL   157.279999\n5   2022-05-09  Adj Close   AAPL   152.059998\n6   2022-05-10  Adj Close   AAPL   154.509995\n7   2022-05-11  Adj Close   AAPL   146.500000\n8   2022-05-12  Adj Close   AAPL   142.559998\n9   2022-05-13  Adj Close   AAPL   147.110001\n60  2022-05-02  Adj Close   GOOG  2343.139893\n61  2022-05-03  Adj Close   GOOG  2362.590088\n62  2022-05-04  Adj Close   GOOG  2451.500000\n63  2022-05-05  Adj Close   GOOG  2334.929932\n64  2022-05-06  Adj Close   GOOG  2313.199951\n65  2022-05-09  Adj Close   GOOG  2261.679932\n66  2022-05-10  Adj Close   GOOG  2291.689941\n67  2022-05-11  Adj Close   GOOG  2279.219971\n68  2022-05-12  Adj Close   GOOG  2263.219971\n69  2022-05-13  Adj Close   GOOG  2330.310059\n120 2022-05-02  Adj Close    AMD    89.839996\n121 2022-05-03  Adj Close    AMD    91.129997\n122 2022-05-04  Adj Close    AMD    99.419998\n123 2022-05-05  Adj Close    AMD    93.870003\n124 2022-05-06  Adj Close    AMD    95.339996\n125 2022-05-09  Adj Close    AMD    86.360001\n126 2022-05-10  Adj Close    AMD    88.730003\n127 2022-05-11  Adj Close    AMD    87.919998\n128 2022-05-12  Adj Close    AMD    87.059998\n129 2022-05-13  Adj Close    AMD    95.120003\n180 2022-05-02  Adj Close     MP    38.680000\n181 2022-05-03  Adj Close     MP    39.529999\n182 2022-05-04  Adj Close     MP    40.590000\n183 2022-05-05  Adj Close     MP    39.750000\n184 2022-05-06  Adj Close     MP    37.689999\n185 2022-05-09  Adj Close     MP    38.290001\n186 2022-05-10  Adj Close     MP    36.080002\n187 2022-05-11  Adj Close     MP    34.200001\n188 2022-05-12  Adj Close     MP    34.080002\n189 2022-05-13  Adj Close     MP    35.480000\n240 2022-05-02  Adj Close   SOFI     6.330000\n241 2022-05-03  Adj Close   SOFI     6.400000\n242 2022-05-04  Adj Close   SOFI     7.140000\n243 2022-05-05  Adj Close   SOFI     6.830000\n244 2022-05-06  Adj Close   SOFI     6.440000\n245 2022-05-09  Adj Close   SOFI     5.970000\n246 2022-05-10  Adj Close   SOFI     5.250000\n247 2022-05-11  Adj Close   SOFI     5.490000\n248 2022-05-12  Adj Close   SOFI     5.660000\n249 2022-05-13  Adj Close   SOFI     6.750000\n300 2022-05-02  Adj Close    NET    89.910004\n301 2022-05-03  Adj Close    NET    89.680000\n302 2022-05-04  Adj Close    NET    90.400002\n303 2022-05-05  Adj Close    NET    77.809998\n304 2022-05-06  Adj Close    NET    65.610001\n305 2022-05-09  Adj Close    NET    56.560001\n306 2022-05-10  Adj Close    NET    56.980000\n307 2022-05-11  Adj Close    NET    54.810001\n308 2022-05-12  Adj Close    NET    56.730000\n309 2022-05-13  Adj Close    NET    66.379997",
      "text/html": "<div>\n<style scoped>\n    .dataframe tbody tr th:only-of-type {\n        vertical-align: middle;\n    }\n\n    .dataframe tbody tr th {\n        vertical-align: top;\n    }\n\n    .dataframe thead th {\n        text-align: right;\n    }\n</style>\n<table border=\"1\" class=\"dataframe\">\n  <thead>\n    <tr style=\"text-align: right;\">\n      <th></th>\n      <th>Date</th>\n      <th>Attribute</th>\n      <th>Symbol</th>\n      <th>Price</th>\n    </tr>\n  </thead>\n  <tbody>\n    <tr>\n      <th>0</th>\n      <td>2022-05-02</td>\n      <td>Adj Close</td>\n      <td>AAPL</td>\n      <td>157.728256</td>\n    </tr>\n    <tr>\n      <th>1</th>\n      <td>2022-05-03</td>\n      <td>Adj Close</td>\n      <td>AAPL</td>\n      <td>159.246017</td>\n    </tr>\n    <tr>\n      <th>2</th>\n      <td>2022-05-04</td>\n      <td>Adj Close</td>\n      <td>AAPL</td>\n      <td>165.776428</td>\n    </tr>\n    <tr>\n      <th>3</th>\n      <td>2022-05-05</td>\n      <td>Adj Close</td>\n      <td>AAPL</td>\n      <td>156.540009</td>\n    </tr>\n    <tr>\n      <th>4</th>\n      <td>2022-05-06</td>\n      <td>Adj Close</td>\n      <td>AAPL</td>\n      <td>157.279999</td>\n    </tr>\n    <tr>\n      <th>5</th>\n      <td>2022-05-09</td>\n      <td>Adj Close</td>\n      <td>AAPL</td>\n      <td>152.059998</td>\n    </tr>\n    <tr>\n      <th>6</th>\n      <td>2022-05-10</td>\n      <td>Adj Close</td>\n      <td>AAPL</td>\n      <td>154.509995</td>\n    </tr>\n    <tr>\n      <th>7</th>\n      <td>2022-05-11</td>\n      <td>Adj Close</td>\n      <td>AAPL</td>\n      <td>146.500000</td>\n    </tr>\n    <tr>\n      <th>8</th>\n      <td>2022-05-12</td>\n      <td>Adj Close</td>\n      <td>AAPL</td>\n      <td>142.559998</td>\n    </tr>\n    <tr>\n      <th>9</th>\n      <td>2022-05-13</td>\n      <td>Adj Close</td>\n      <td>AAPL</td>\n      <td>147.110001</td>\n    </tr>\n    <tr>\n      <th>60</th>\n      <td>2022-05-02</td>\n      <td>Adj Close</td>\n      <td>GOOG</td>\n      <td>2343.139893</td>\n    </tr>\n    <tr>\n      <th>61</th>\n      <td>2022-05-03</td>\n      <td>Adj Close</td>\n      <td>GOOG</td>\n      <td>2362.590088</td>\n    </tr>\n    <tr>\n      <th>62</th>\n      <td>2022-05-04</td>\n      <td>Adj Close</td>\n      <td>GOOG</td>\n      <td>2451.500000</td>\n    </tr>\n    <tr>\n      <th>63</th>\n      <td>2022-05-05</td>\n      <td>Adj Close</td>\n      <td>GOOG</td>\n      <td>2334.929932</td>\n    </tr>\n    <tr>\n      <th>64</th>\n      <td>2022-05-06</td>\n      <td>Adj Close</td>\n      <td>GOOG</td>\n      <td>2313.199951</td>\n    </tr>\n    <tr>\n      <th>65</th>\n      <td>2022-05-09</td>\n      <td>Adj Close</td>\n      <td>GOOG</td>\n      <td>2261.679932</td>\n    </tr>\n    <tr>\n      <th>66</th>\n      <td>2022-05-10</td>\n      <td>Adj Close</td>\n      <td>GOOG</td>\n      <td>2291.689941</td>\n    </tr>\n    <tr>\n      <th>67</th>\n      <td>2022-05-11</td>\n      <td>Adj Close</td>\n      <td>GOOG</td>\n      <td>2279.219971</td>\n    </tr>\n    <tr>\n      <th>68</th>\n      <td>2022-05-12</td>\n      <td>Adj Close</td>\n      <td>GOOG</td>\n      <td>2263.219971</td>\n    </tr>\n    <tr>\n      <th>69</th>\n      <td>2022-05-13</td>\n      <td>Adj Close</td>\n      <td>GOOG</td>\n      <td>2330.310059</td>\n    </tr>\n    <tr>\n      <th>120</th>\n      <td>2022-05-02</td>\n      <td>Adj Close</td>\n      <td>AMD</td>\n      <td>89.839996</td>\n    </tr>\n    <tr>\n      <th>121</th>\n      <td>2022-05-03</td>\n      <td>Adj Close</td>\n      <td>AMD</td>\n      <td>91.129997</td>\n    </tr>\n    <tr>\n      <th>122</th>\n      <td>2022-05-04</td>\n      <td>Adj Close</td>\n      <td>AMD</td>\n      <td>99.419998</td>\n    </tr>\n    <tr>\n      <th>123</th>\n      <td>2022-05-05</td>\n      <td>Adj Close</td>\n      <td>AMD</td>\n      <td>93.870003</td>\n    </tr>\n    <tr>\n      <th>124</th>\n      <td>2022-05-06</td>\n      <td>Adj Close</td>\n      <td>AMD</td>\n      <td>95.339996</td>\n    </tr>\n    <tr>\n      <th>125</th>\n      <td>2022-05-09</td>\n      <td>Adj Close</td>\n      <td>AMD</td>\n      <td>86.360001</td>\n    </tr>\n    <tr>\n      <th>126</th>\n      <td>2022-05-10</td>\n      <td>Adj Close</td>\n      <td>AMD</td>\n      <td>88.730003</td>\n    </tr>\n    <tr>\n      <th>127</th>\n      <td>2022-05-11</td>\n      <td>Adj Close</td>\n      <td>AMD</td>\n      <td>87.919998</td>\n    </tr>\n    <tr>\n      <th>128</th>\n      <td>2022-05-12</td>\n      <td>Adj Close</td>\n      <td>AMD</td>\n      <td>87.059998</td>\n    </tr>\n    <tr>\n      <th>129</th>\n      <td>2022-05-13</td>\n      <td>Adj Close</td>\n      <td>AMD</td>\n      <td>95.120003</td>\n    </tr>\n    <tr>\n      <th>180</th>\n      <td>2022-05-02</td>\n      <td>Adj Close</td>\n      <td>MP</td>\n      <td>38.680000</td>\n    </tr>\n    <tr>\n      <th>181</th>\n      <td>2022-05-03</td>\n      <td>Adj Close</td>\n      <td>MP</td>\n      <td>39.529999</td>\n    </tr>\n    <tr>\n      <th>182</th>\n      <td>2022-05-04</td>\n      <td>Adj Close</td>\n      <td>MP</td>\n      <td>40.590000</td>\n    </tr>\n    <tr>\n      <th>183</th>\n      <td>2022-05-05</td>\n      <td>Adj Close</td>\n      <td>MP</td>\n      <td>39.750000</td>\n    </tr>\n    <tr>\n      <th>184</th>\n      <td>2022-05-06</td>\n      <td>Adj Close</td>\n      <td>MP</td>\n      <td>37.689999</td>\n    </tr>\n    <tr>\n      <th>185</th>\n      <td>2022-05-09</td>\n      <td>Adj Close</td>\n      <td>MP</td>\n      <td>38.290001</td>\n    </tr>\n    <tr>\n      <th>186</th>\n      <td>2022-05-10</td>\n      <td>Adj Close</td>\n      <td>MP</td>\n      <td>36.080002</td>\n    </tr>\n    <tr>\n      <th>187</th>\n      <td>2022-05-11</td>\n      <td>Adj Close</td>\n      <td>MP</td>\n      <td>34.200001</td>\n    </tr>\n    <tr>\n      <th>188</th>\n      <td>2022-05-12</td>\n      <td>Adj Close</td>\n      <td>MP</td>\n      <td>34.080002</td>\n    </tr>\n    <tr>\n      <th>189</th>\n      <td>2022-05-13</td>\n      <td>Adj Close</td>\n      <td>MP</td>\n      <td>35.480000</td>\n    </tr>\n    <tr>\n      <th>240</th>\n      <td>2022-05-02</td>\n      <td>Adj Close</td>\n      <td>SOFI</td>\n      <td>6.330000</td>\n    </tr>\n    <tr>\n      <th>241</th>\n      <td>2022-05-03</td>\n      <td>Adj Close</td>\n      <td>SOFI</td>\n      <td>6.400000</td>\n    </tr>\n    <tr>\n      <th>242</th>\n      <td>2022-05-04</td>\n      <td>Adj Close</td>\n      <td>SOFI</td>\n      <td>7.140000</td>\n    </tr>\n    <tr>\n      <th>243</th>\n      <td>2022-05-05</td>\n      <td>Adj Close</td>\n      <td>SOFI</td>\n      <td>6.830000</td>\n    </tr>\n    <tr>\n      <th>244</th>\n      <td>2022-05-06</td>\n      <td>Adj Close</td>\n      <td>SOFI</td>\n      <td>6.440000</td>\n    </tr>\n    <tr>\n      <th>245</th>\n      <td>2022-05-09</td>\n      <td>Adj Close</td>\n      <td>SOFI</td>\n      <td>5.970000</td>\n    </tr>\n    <tr>\n      <th>246</th>\n      <td>2022-05-10</td>\n      <td>Adj Close</td>\n      <td>SOFI</td>\n      <td>5.250000</td>\n    </tr>\n    <tr>\n      <th>247</th>\n      <td>2022-05-11</td>\n      <td>Adj Close</td>\n      <td>SOFI</td>\n      <td>5.490000</td>\n    </tr>\n    <tr>\n      <th>248</th>\n      <td>2022-05-12</td>\n      <td>Adj Close</td>\n      <td>SOFI</td>\n      <td>5.660000</td>\n    </tr>\n    <tr>\n      <th>249</th>\n      <td>2022-05-13</td>\n      <td>Adj Close</td>\n      <td>SOFI</td>\n      <td>6.750000</td>\n    </tr>\n    <tr>\n      <th>300</th>\n      <td>2022-05-02</td>\n      <td>Adj Close</td>\n      <td>NET</td>\n      <td>89.910004</td>\n    </tr>\n    <tr>\n      <th>301</th>\n      <td>2022-05-03</td>\n      <td>Adj Close</td>\n      <td>NET</td>\n      <td>89.680000</td>\n    </tr>\n    <tr>\n      <th>302</th>\n      <td>2022-05-04</td>\n      <td>Adj Close</td>\n      <td>NET</td>\n      <td>90.400002</td>\n    </tr>\n    <tr>\n      <th>303</th>\n      <td>2022-05-05</td>\n      <td>Adj Close</td>\n      <td>NET</td>\n      <td>77.809998</td>\n    </tr>\n    <tr>\n      <th>304</th>\n      <td>2022-05-06</td>\n      <td>Adj Close</td>\n      <td>NET</td>\n      <td>65.610001</td>\n    </tr>\n    <tr>\n      <th>305</th>\n      <td>2022-05-09</td>\n      <td>Adj Close</td>\n      <td>NET</td>\n      <td>56.560001</td>\n    </tr>\n    <tr>\n      <th>306</th>\n      <td>2022-05-10</td>\n      <td>Adj Close</td>\n      <td>NET</td>\n      <td>56.980000</td>\n    </tr>\n    <tr>\n      <th>307</th>\n      <td>2022-05-11</td>\n      <td>Adj Close</td>\n      <td>NET</td>\n      <td>54.810001</td>\n    </tr>\n    <tr>\n      <th>308</th>\n      <td>2022-05-12</td>\n      <td>Adj Close</td>\n      <td>NET</td>\n      <td>56.730000</td>\n    </tr>\n    <tr>\n      <th>309</th>\n      <td>2022-05-13</td>\n      <td>Adj Close</td>\n      <td>NET</td>\n      <td>66.379997</td>\n    </tr>\n  </tbody>\n</table>\n</div>"
     },
     "execution_count": 370,
     "metadata": {},
     "output_type": "execute_result"
    }
   ],
   "source": [
    "adj_df = pivot_df.loc[(pivot_df['Attribute'] == 'Adj Close' )]\n",
    "\n",
    "adj_df"
   ],
   "metadata": {
    "collapsed": false,
    "pycharm": {
     "name": "#%%\n"
    }
   }
  },
  {
   "cell_type": "code",
   "execution_count": null,
   "outputs": [],
   "source": [],
   "metadata": {
    "collapsed": false,
    "pycharm": {
     "name": "#%%\n",
     "is_executing": true
    }
   }
  },
  {
   "cell_type": "code",
   "execution_count": null,
   "outputs": [],
   "source": [],
   "metadata": {
    "collapsed": false,
    "pycharm": {
     "name": "#%%\n",
     "is_executing": true
    }
   }
  },
  {
   "cell_type": "code",
   "execution_count": null,
   "outputs": [],
   "source": [],
   "metadata": {
    "collapsed": false,
    "pycharm": {
     "name": "#%%\n",
     "is_executing": true
    }
   }
  },
  {
   "cell_type": "code",
   "execution_count": null,
   "outputs": [],
   "source": [],
   "metadata": {
    "collapsed": false,
    "pycharm": {
     "name": "#%%\n",
     "is_executing": true
    }
   }
  },
  {
   "cell_type": "code",
   "execution_count": 373,
   "outputs": [
    {
     "data": {
      "text/plain": "         Date Attribute Symbol       Price\n20 2022-05-02      High   AAPL  158.229996\n21 2022-05-03      High   AAPL  160.710007\n22 2022-05-04      High   AAPL  166.479996\n23 2022-05-05      High   AAPL  164.080002\n24 2022-05-06      High   AAPL  159.440002\n25 2022-05-09      High   AAPL  155.830002\n26 2022-05-10      High   AAPL  156.740005\n27 2022-05-11      High   AAPL  155.449997\n28 2022-05-12      High   AAPL  146.199997\n29 2022-05-13      High   AAPL  148.100006",
      "text/html": "<div>\n<style scoped>\n    .dataframe tbody tr th:only-of-type {\n        vertical-align: middle;\n    }\n\n    .dataframe tbody tr th {\n        vertical-align: top;\n    }\n\n    .dataframe thead th {\n        text-align: right;\n    }\n</style>\n<table border=\"1\" class=\"dataframe\">\n  <thead>\n    <tr style=\"text-align: right;\">\n      <th></th>\n      <th>Date</th>\n      <th>Attribute</th>\n      <th>Symbol</th>\n      <th>Price</th>\n    </tr>\n  </thead>\n  <tbody>\n    <tr>\n      <th>20</th>\n      <td>2022-05-02</td>\n      <td>High</td>\n      <td>AAPL</td>\n      <td>158.229996</td>\n    </tr>\n    <tr>\n      <th>21</th>\n      <td>2022-05-03</td>\n      <td>High</td>\n      <td>AAPL</td>\n      <td>160.710007</td>\n    </tr>\n    <tr>\n      <th>22</th>\n      <td>2022-05-04</td>\n      <td>High</td>\n      <td>AAPL</td>\n      <td>166.479996</td>\n    </tr>\n    <tr>\n      <th>23</th>\n      <td>2022-05-05</td>\n      <td>High</td>\n      <td>AAPL</td>\n      <td>164.080002</td>\n    </tr>\n    <tr>\n      <th>24</th>\n      <td>2022-05-06</td>\n      <td>High</td>\n      <td>AAPL</td>\n      <td>159.440002</td>\n    </tr>\n    <tr>\n      <th>25</th>\n      <td>2022-05-09</td>\n      <td>High</td>\n      <td>AAPL</td>\n      <td>155.830002</td>\n    </tr>\n    <tr>\n      <th>26</th>\n      <td>2022-05-10</td>\n      <td>High</td>\n      <td>AAPL</td>\n      <td>156.740005</td>\n    </tr>\n    <tr>\n      <th>27</th>\n      <td>2022-05-11</td>\n      <td>High</td>\n      <td>AAPL</td>\n      <td>155.449997</td>\n    </tr>\n    <tr>\n      <th>28</th>\n      <td>2022-05-12</td>\n      <td>High</td>\n      <td>AAPL</td>\n      <td>146.199997</td>\n    </tr>\n    <tr>\n      <th>29</th>\n      <td>2022-05-13</td>\n      <td>High</td>\n      <td>AAPL</td>\n      <td>148.100006</td>\n    </tr>\n  </tbody>\n</table>\n</div>"
     },
     "execution_count": 373,
     "metadata": {},
     "output_type": "execute_result"
    }
   ],
   "source": [
    "#appl = pivot_df[(pivot_df['Symbol'] == 'AAPL') & pivot_df[(pivot_df['Attribute'] == 'High')]\n",
    "\n",
    "aapl = ['AAPL']\n",
    "\n",
    "apple_df = pivot_df[(pivot_df['Symbol'] == 'AAPL') & ( pivot_df['Attribute'] == 'High')]\n",
    "\n",
    "apple_df"
   ],
   "metadata": {
    "collapsed": false,
    "pycharm": {
     "name": "#%%\n"
    }
   }
  },
  {
   "cell_type": "code",
   "execution_count": 379,
   "outputs": [
    {
     "data": {
      "application/vnd.plotly.v1+json": {
       "data": [
        {
         "x": [
          "2022-05-02T00:00:00",
          "2022-05-03T00:00:00",
          "2022-05-04T00:00:00",
          "2022-05-05T00:00:00",
          "2022-05-06T00:00:00",
          "2022-05-09T00:00:00",
          "2022-05-10T00:00:00",
          "2022-05-11T00:00:00",
          "2022-05-12T00:00:00",
          "2022-05-13T00:00:00"
         ],
         "y": [
          158.22999572753906,
          160.7100067138672,
          166.47999572753906,
          164.0800018310547,
          159.44000244140625,
          155.8300018310547,
          156.74000549316406,
          155.4499969482422,
          146.1999969482422,
          148.10000610351562
         ],
         "type": "scatter"
        }
       ],
       "layout": {
        "template": {
         "data": {
          "histogram2dcontour": [
           {
            "type": "histogram2dcontour",
            "colorbar": {
             "outlinewidth": 0,
             "ticks": ""
            },
            "colorscale": [
             [
              0.0,
              "#0d0887"
             ],
             [
              0.1111111111111111,
              "#46039f"
             ],
             [
              0.2222222222222222,
              "#7201a8"
             ],
             [
              0.3333333333333333,
              "#9c179e"
             ],
             [
              0.4444444444444444,
              "#bd3786"
             ],
             [
              0.5555555555555556,
              "#d8576b"
             ],
             [
              0.6666666666666666,
              "#ed7953"
             ],
             [
              0.7777777777777778,
              "#fb9f3a"
             ],
             [
              0.8888888888888888,
              "#fdca26"
             ],
             [
              1.0,
              "#f0f921"
             ]
            ]
           }
          ],
          "choropleth": [
           {
            "type": "choropleth",
            "colorbar": {
             "outlinewidth": 0,
             "ticks": ""
            }
           }
          ],
          "histogram2d": [
           {
            "type": "histogram2d",
            "colorbar": {
             "outlinewidth": 0,
             "ticks": ""
            },
            "colorscale": [
             [
              0.0,
              "#0d0887"
             ],
             [
              0.1111111111111111,
              "#46039f"
             ],
             [
              0.2222222222222222,
              "#7201a8"
             ],
             [
              0.3333333333333333,
              "#9c179e"
             ],
             [
              0.4444444444444444,
              "#bd3786"
             ],
             [
              0.5555555555555556,
              "#d8576b"
             ],
             [
              0.6666666666666666,
              "#ed7953"
             ],
             [
              0.7777777777777778,
              "#fb9f3a"
             ],
             [
              0.8888888888888888,
              "#fdca26"
             ],
             [
              1.0,
              "#f0f921"
             ]
            ]
           }
          ],
          "heatmap": [
           {
            "type": "heatmap",
            "colorbar": {
             "outlinewidth": 0,
             "ticks": ""
            },
            "colorscale": [
             [
              0.0,
              "#0d0887"
             ],
             [
              0.1111111111111111,
              "#46039f"
             ],
             [
              0.2222222222222222,
              "#7201a8"
             ],
             [
              0.3333333333333333,
              "#9c179e"
             ],
             [
              0.4444444444444444,
              "#bd3786"
             ],
             [
              0.5555555555555556,
              "#d8576b"
             ],
             [
              0.6666666666666666,
              "#ed7953"
             ],
             [
              0.7777777777777778,
              "#fb9f3a"
             ],
             [
              0.8888888888888888,
              "#fdca26"
             ],
             [
              1.0,
              "#f0f921"
             ]
            ]
           }
          ],
          "heatmapgl": [
           {
            "type": "heatmapgl",
            "colorbar": {
             "outlinewidth": 0,
             "ticks": ""
            },
            "colorscale": [
             [
              0.0,
              "#0d0887"
             ],
             [
              0.1111111111111111,
              "#46039f"
             ],
             [
              0.2222222222222222,
              "#7201a8"
             ],
             [
              0.3333333333333333,
              "#9c179e"
             ],
             [
              0.4444444444444444,
              "#bd3786"
             ],
             [
              0.5555555555555556,
              "#d8576b"
             ],
             [
              0.6666666666666666,
              "#ed7953"
             ],
             [
              0.7777777777777778,
              "#fb9f3a"
             ],
             [
              0.8888888888888888,
              "#fdca26"
             ],
             [
              1.0,
              "#f0f921"
             ]
            ]
           }
          ],
          "contourcarpet": [
           {
            "type": "contourcarpet",
            "colorbar": {
             "outlinewidth": 0,
             "ticks": ""
            }
           }
          ],
          "contour": [
           {
            "type": "contour",
            "colorbar": {
             "outlinewidth": 0,
             "ticks": ""
            },
            "colorscale": [
             [
              0.0,
              "#0d0887"
             ],
             [
              0.1111111111111111,
              "#46039f"
             ],
             [
              0.2222222222222222,
              "#7201a8"
             ],
             [
              0.3333333333333333,
              "#9c179e"
             ],
             [
              0.4444444444444444,
              "#bd3786"
             ],
             [
              0.5555555555555556,
              "#d8576b"
             ],
             [
              0.6666666666666666,
              "#ed7953"
             ],
             [
              0.7777777777777778,
              "#fb9f3a"
             ],
             [
              0.8888888888888888,
              "#fdca26"
             ],
             [
              1.0,
              "#f0f921"
             ]
            ]
           }
          ],
          "surface": [
           {
            "type": "surface",
            "colorbar": {
             "outlinewidth": 0,
             "ticks": ""
            },
            "colorscale": [
             [
              0.0,
              "#0d0887"
             ],
             [
              0.1111111111111111,
              "#46039f"
             ],
             [
              0.2222222222222222,
              "#7201a8"
             ],
             [
              0.3333333333333333,
              "#9c179e"
             ],
             [
              0.4444444444444444,
              "#bd3786"
             ],
             [
              0.5555555555555556,
              "#d8576b"
             ],
             [
              0.6666666666666666,
              "#ed7953"
             ],
             [
              0.7777777777777778,
              "#fb9f3a"
             ],
             [
              0.8888888888888888,
              "#fdca26"
             ],
             [
              1.0,
              "#f0f921"
             ]
            ]
           }
          ],
          "mesh3d": [
           {
            "type": "mesh3d",
            "colorbar": {
             "outlinewidth": 0,
             "ticks": ""
            }
           }
          ],
          "scatter": [
           {
            "marker": {
             "line": {
              "color": "#283442"
             }
            },
            "type": "scatter"
           }
          ],
          "parcoords": [
           {
            "type": "parcoords",
            "line": {
             "colorbar": {
              "outlinewidth": 0,
              "ticks": ""
             }
            }
           }
          ],
          "scatterpolargl": [
           {
            "type": "scatterpolargl",
            "marker": {
             "colorbar": {
              "outlinewidth": 0,
              "ticks": ""
             }
            }
           }
          ],
          "bar": [
           {
            "error_x": {
             "color": "#f2f5fa"
            },
            "error_y": {
             "color": "#f2f5fa"
            },
            "marker": {
             "line": {
              "color": "rgb(17,17,17)",
              "width": 0.5
             },
             "pattern": {
              "fillmode": "overlay",
              "size": 10,
              "solidity": 0.2
             }
            },
            "type": "bar"
           }
          ],
          "scattergeo": [
           {
            "type": "scattergeo",
            "marker": {
             "colorbar": {
              "outlinewidth": 0,
              "ticks": ""
             }
            }
           }
          ],
          "scatterpolar": [
           {
            "type": "scatterpolar",
            "marker": {
             "colorbar": {
              "outlinewidth": 0,
              "ticks": ""
             }
            }
           }
          ],
          "histogram": [
           {
            "marker": {
             "pattern": {
              "fillmode": "overlay",
              "size": 10,
              "solidity": 0.2
             }
            },
            "type": "histogram"
           }
          ],
          "scattergl": [
           {
            "marker": {
             "line": {
              "color": "#283442"
             }
            },
            "type": "scattergl"
           }
          ],
          "scatter3d": [
           {
            "type": "scatter3d",
            "line": {
             "colorbar": {
              "outlinewidth": 0,
              "ticks": ""
             }
            },
            "marker": {
             "colorbar": {
              "outlinewidth": 0,
              "ticks": ""
             }
            }
           }
          ],
          "scattermapbox": [
           {
            "type": "scattermapbox",
            "marker": {
             "colorbar": {
              "outlinewidth": 0,
              "ticks": ""
             }
            }
           }
          ],
          "scatterternary": [
           {
            "type": "scatterternary",
            "marker": {
             "colorbar": {
              "outlinewidth": 0,
              "ticks": ""
             }
            }
           }
          ],
          "scattercarpet": [
           {
            "type": "scattercarpet",
            "marker": {
             "colorbar": {
              "outlinewidth": 0,
              "ticks": ""
             }
            }
           }
          ],
          "carpet": [
           {
            "aaxis": {
             "endlinecolor": "#A2B1C6",
             "gridcolor": "#506784",
             "linecolor": "#506784",
             "minorgridcolor": "#506784",
             "startlinecolor": "#A2B1C6"
            },
            "baxis": {
             "endlinecolor": "#A2B1C6",
             "gridcolor": "#506784",
             "linecolor": "#506784",
             "minorgridcolor": "#506784",
             "startlinecolor": "#A2B1C6"
            },
            "type": "carpet"
           }
          ],
          "table": [
           {
            "cells": {
             "fill": {
              "color": "#506784"
             },
             "line": {
              "color": "rgb(17,17,17)"
             }
            },
            "header": {
             "fill": {
              "color": "#2a3f5f"
             },
             "line": {
              "color": "rgb(17,17,17)"
             }
            },
            "type": "table"
           }
          ],
          "barpolar": [
           {
            "marker": {
             "line": {
              "color": "rgb(17,17,17)",
              "width": 0.5
             },
             "pattern": {
              "fillmode": "overlay",
              "size": 10,
              "solidity": 0.2
             }
            },
            "type": "barpolar"
           }
          ],
          "pie": [
           {
            "automargin": true,
            "type": "pie"
           }
          ]
         },
         "layout": {
          "autotypenumbers": "strict",
          "colorway": [
           "#636efa",
           "#EF553B",
           "#00cc96",
           "#ab63fa",
           "#FFA15A",
           "#19d3f3",
           "#FF6692",
           "#B6E880",
           "#FF97FF",
           "#FECB52"
          ],
          "font": {
           "color": "#f2f5fa"
          },
          "hovermode": "closest",
          "hoverlabel": {
           "align": "left"
          },
          "paper_bgcolor": "rgb(17,17,17)",
          "plot_bgcolor": "rgb(17,17,17)",
          "polar": {
           "bgcolor": "rgb(17,17,17)",
           "angularaxis": {
            "gridcolor": "#506784",
            "linecolor": "#506784",
            "ticks": ""
           },
           "radialaxis": {
            "gridcolor": "#506784",
            "linecolor": "#506784",
            "ticks": ""
           }
          },
          "ternary": {
           "bgcolor": "rgb(17,17,17)",
           "aaxis": {
            "gridcolor": "#506784",
            "linecolor": "#506784",
            "ticks": ""
           },
           "baxis": {
            "gridcolor": "#506784",
            "linecolor": "#506784",
            "ticks": ""
           },
           "caxis": {
            "gridcolor": "#506784",
            "linecolor": "#506784",
            "ticks": ""
           }
          },
          "coloraxis": {
           "colorbar": {
            "outlinewidth": 0,
            "ticks": ""
           }
          },
          "colorscale": {
           "sequential": [
            [
             0.0,
             "#0d0887"
            ],
            [
             0.1111111111111111,
             "#46039f"
            ],
            [
             0.2222222222222222,
             "#7201a8"
            ],
            [
             0.3333333333333333,
             "#9c179e"
            ],
            [
             0.4444444444444444,
             "#bd3786"
            ],
            [
             0.5555555555555556,
             "#d8576b"
            ],
            [
             0.6666666666666666,
             "#ed7953"
            ],
            [
             0.7777777777777778,
             "#fb9f3a"
            ],
            [
             0.8888888888888888,
             "#fdca26"
            ],
            [
             1.0,
             "#f0f921"
            ]
           ],
           "sequentialminus": [
            [
             0.0,
             "#0d0887"
            ],
            [
             0.1111111111111111,
             "#46039f"
            ],
            [
             0.2222222222222222,
             "#7201a8"
            ],
            [
             0.3333333333333333,
             "#9c179e"
            ],
            [
             0.4444444444444444,
             "#bd3786"
            ],
            [
             0.5555555555555556,
             "#d8576b"
            ],
            [
             0.6666666666666666,
             "#ed7953"
            ],
            [
             0.7777777777777778,
             "#fb9f3a"
            ],
            [
             0.8888888888888888,
             "#fdca26"
            ],
            [
             1.0,
             "#f0f921"
            ]
           ],
           "diverging": [
            [
             0,
             "#8e0152"
            ],
            [
             0.1,
             "#c51b7d"
            ],
            [
             0.2,
             "#de77ae"
            ],
            [
             0.3,
             "#f1b6da"
            ],
            [
             0.4,
             "#fde0ef"
            ],
            [
             0.5,
             "#f7f7f7"
            ],
            [
             0.6,
             "#e6f5d0"
            ],
            [
             0.7,
             "#b8e186"
            ],
            [
             0.8,
             "#7fbc41"
            ],
            [
             0.9,
             "#4d9221"
            ],
            [
             1,
             "#276419"
            ]
           ]
          },
          "xaxis": {
           "gridcolor": "#283442",
           "linecolor": "#506784",
           "ticks": "",
           "title": {
            "standoff": 15
           },
           "zerolinecolor": "#283442",
           "automargin": true,
           "zerolinewidth": 2
          },
          "yaxis": {
           "gridcolor": "#283442",
           "linecolor": "#506784",
           "ticks": "",
           "title": {
            "standoff": 15
           },
           "zerolinecolor": "#283442",
           "automargin": true,
           "zerolinewidth": 2
          },
          "scene": {
           "xaxis": {
            "backgroundcolor": "rgb(17,17,17)",
            "gridcolor": "#506784",
            "linecolor": "#506784",
            "showbackground": true,
            "ticks": "",
            "zerolinecolor": "#C8D4E3",
            "gridwidth": 2
           },
           "yaxis": {
            "backgroundcolor": "rgb(17,17,17)",
            "gridcolor": "#506784",
            "linecolor": "#506784",
            "showbackground": true,
            "ticks": "",
            "zerolinecolor": "#C8D4E3",
            "gridwidth": 2
           },
           "zaxis": {
            "backgroundcolor": "rgb(17,17,17)",
            "gridcolor": "#506784",
            "linecolor": "#506784",
            "showbackground": true,
            "ticks": "",
            "zerolinecolor": "#C8D4E3",
            "gridwidth": 2
           }
          },
          "shapedefaults": {
           "line": {
            "color": "#f2f5fa"
           }
          },
          "annotationdefaults": {
           "arrowcolor": "#f2f5fa",
           "arrowhead": 0,
           "arrowwidth": 1
          },
          "geo": {
           "bgcolor": "rgb(17,17,17)",
           "landcolor": "rgb(17,17,17)",
           "subunitcolor": "#506784",
           "showland": true,
           "showlakes": true,
           "lakecolor": "rgb(17,17,17)"
          },
          "title": {
           "x": 0.05
          },
          "updatemenudefaults": {
           "bgcolor": "#506784",
           "borderwidth": 0
          },
          "sliderdefaults": {
           "bgcolor": "#C8D4E3",
           "borderwidth": 1,
           "bordercolor": "rgb(17,17,17)",
           "tickwidth": 0
          },
          "mapbox": {
           "style": "dark"
          }
         }
        }
       },
       "config": {
        "plotlyServerURL": "https://plot.ly"
       }
      },
      "text/html": "<div>                            <div id=\"88b2c923-bab3-43dc-ae29-e680e5724a9d\" class=\"plotly-graph-div\" style=\"height:525px; width:100%;\"></div>            <script type=\"text/javascript\">                require([\"plotly\"], function(Plotly) {                    window.PLOTLYENV=window.PLOTLYENV || {};                                    if (document.getElementById(\"88b2c923-bab3-43dc-ae29-e680e5724a9d\")) {                    Plotly.newPlot(                        \"88b2c923-bab3-43dc-ae29-e680e5724a9d\",                        [{\"x\":[\"2022-05-02T00:00:00\",\"2022-05-03T00:00:00\",\"2022-05-04T00:00:00\",\"2022-05-05T00:00:00\",\"2022-05-06T00:00:00\",\"2022-05-09T00:00:00\",\"2022-05-10T00:00:00\",\"2022-05-11T00:00:00\",\"2022-05-12T00:00:00\",\"2022-05-13T00:00:00\"],\"y\":[158.22999572753906,160.7100067138672,166.47999572753906,164.0800018310547,159.44000244140625,155.8300018310547,156.74000549316406,155.4499969482422,146.1999969482422,148.10000610351562],\"type\":\"scatter\"}],                        {\"template\":{\"data\":{\"histogram2dcontour\":[{\"type\":\"histogram2dcontour\",\"colorbar\":{\"outlinewidth\":0,\"ticks\":\"\"},\"colorscale\":[[0.0,\"#0d0887\"],[0.1111111111111111,\"#46039f\"],[0.2222222222222222,\"#7201a8\"],[0.3333333333333333,\"#9c179e\"],[0.4444444444444444,\"#bd3786\"],[0.5555555555555556,\"#d8576b\"],[0.6666666666666666,\"#ed7953\"],[0.7777777777777778,\"#fb9f3a\"],[0.8888888888888888,\"#fdca26\"],[1.0,\"#f0f921\"]]}],\"choropleth\":[{\"type\":\"choropleth\",\"colorbar\":{\"outlinewidth\":0,\"ticks\":\"\"}}],\"histogram2d\":[{\"type\":\"histogram2d\",\"colorbar\":{\"outlinewidth\":0,\"ticks\":\"\"},\"colorscale\":[[0.0,\"#0d0887\"],[0.1111111111111111,\"#46039f\"],[0.2222222222222222,\"#7201a8\"],[0.3333333333333333,\"#9c179e\"],[0.4444444444444444,\"#bd3786\"],[0.5555555555555556,\"#d8576b\"],[0.6666666666666666,\"#ed7953\"],[0.7777777777777778,\"#fb9f3a\"],[0.8888888888888888,\"#fdca26\"],[1.0,\"#f0f921\"]]}],\"heatmap\":[{\"type\":\"heatmap\",\"colorbar\":{\"outlinewidth\":0,\"ticks\":\"\"},\"colorscale\":[[0.0,\"#0d0887\"],[0.1111111111111111,\"#46039f\"],[0.2222222222222222,\"#7201a8\"],[0.3333333333333333,\"#9c179e\"],[0.4444444444444444,\"#bd3786\"],[0.5555555555555556,\"#d8576b\"],[0.6666666666666666,\"#ed7953\"],[0.7777777777777778,\"#fb9f3a\"],[0.8888888888888888,\"#fdca26\"],[1.0,\"#f0f921\"]]}],\"heatmapgl\":[{\"type\":\"heatmapgl\",\"colorbar\":{\"outlinewidth\":0,\"ticks\":\"\"},\"colorscale\":[[0.0,\"#0d0887\"],[0.1111111111111111,\"#46039f\"],[0.2222222222222222,\"#7201a8\"],[0.3333333333333333,\"#9c179e\"],[0.4444444444444444,\"#bd3786\"],[0.5555555555555556,\"#d8576b\"],[0.6666666666666666,\"#ed7953\"],[0.7777777777777778,\"#fb9f3a\"],[0.8888888888888888,\"#fdca26\"],[1.0,\"#f0f921\"]]}],\"contourcarpet\":[{\"type\":\"contourcarpet\",\"colorbar\":{\"outlinewidth\":0,\"ticks\":\"\"}}],\"contour\":[{\"type\":\"contour\",\"colorbar\":{\"outlinewidth\":0,\"ticks\":\"\"},\"colorscale\":[[0.0,\"#0d0887\"],[0.1111111111111111,\"#46039f\"],[0.2222222222222222,\"#7201a8\"],[0.3333333333333333,\"#9c179e\"],[0.4444444444444444,\"#bd3786\"],[0.5555555555555556,\"#d8576b\"],[0.6666666666666666,\"#ed7953\"],[0.7777777777777778,\"#fb9f3a\"],[0.8888888888888888,\"#fdca26\"],[1.0,\"#f0f921\"]]}],\"surface\":[{\"type\":\"surface\",\"colorbar\":{\"outlinewidth\":0,\"ticks\":\"\"},\"colorscale\":[[0.0,\"#0d0887\"],[0.1111111111111111,\"#46039f\"],[0.2222222222222222,\"#7201a8\"],[0.3333333333333333,\"#9c179e\"],[0.4444444444444444,\"#bd3786\"],[0.5555555555555556,\"#d8576b\"],[0.6666666666666666,\"#ed7953\"],[0.7777777777777778,\"#fb9f3a\"],[0.8888888888888888,\"#fdca26\"],[1.0,\"#f0f921\"]]}],\"mesh3d\":[{\"type\":\"mesh3d\",\"colorbar\":{\"outlinewidth\":0,\"ticks\":\"\"}}],\"scatter\":[{\"marker\":{\"line\":{\"color\":\"#283442\"}},\"type\":\"scatter\"}],\"parcoords\":[{\"type\":\"parcoords\",\"line\":{\"colorbar\":{\"outlinewidth\":0,\"ticks\":\"\"}}}],\"scatterpolargl\":[{\"type\":\"scatterpolargl\",\"marker\":{\"colorbar\":{\"outlinewidth\":0,\"ticks\":\"\"}}}],\"bar\":[{\"error_x\":{\"color\":\"#f2f5fa\"},\"error_y\":{\"color\":\"#f2f5fa\"},\"marker\":{\"line\":{\"color\":\"rgb(17,17,17)\",\"width\":0.5},\"pattern\":{\"fillmode\":\"overlay\",\"size\":10,\"solidity\":0.2}},\"type\":\"bar\"}],\"scattergeo\":[{\"type\":\"scattergeo\",\"marker\":{\"colorbar\":{\"outlinewidth\":0,\"ticks\":\"\"}}}],\"scatterpolar\":[{\"type\":\"scatterpolar\",\"marker\":{\"colorbar\":{\"outlinewidth\":0,\"ticks\":\"\"}}}],\"histogram\":[{\"marker\":{\"pattern\":{\"fillmode\":\"overlay\",\"size\":10,\"solidity\":0.2}},\"type\":\"histogram\"}],\"scattergl\":[{\"marker\":{\"line\":{\"color\":\"#283442\"}},\"type\":\"scattergl\"}],\"scatter3d\":[{\"type\":\"scatter3d\",\"line\":{\"colorbar\":{\"outlinewidth\":0,\"ticks\":\"\"}},\"marker\":{\"colorbar\":{\"outlinewidth\":0,\"ticks\":\"\"}}}],\"scattermapbox\":[{\"type\":\"scattermapbox\",\"marker\":{\"colorbar\":{\"outlinewidth\":0,\"ticks\":\"\"}}}],\"scatterternary\":[{\"type\":\"scatterternary\",\"marker\":{\"colorbar\":{\"outlinewidth\":0,\"ticks\":\"\"}}}],\"scattercarpet\":[{\"type\":\"scattercarpet\",\"marker\":{\"colorbar\":{\"outlinewidth\":0,\"ticks\":\"\"}}}],\"carpet\":[{\"aaxis\":{\"endlinecolor\":\"#A2B1C6\",\"gridcolor\":\"#506784\",\"linecolor\":\"#506784\",\"minorgridcolor\":\"#506784\",\"startlinecolor\":\"#A2B1C6\"},\"baxis\":{\"endlinecolor\":\"#A2B1C6\",\"gridcolor\":\"#506784\",\"linecolor\":\"#506784\",\"minorgridcolor\":\"#506784\",\"startlinecolor\":\"#A2B1C6\"},\"type\":\"carpet\"}],\"table\":[{\"cells\":{\"fill\":{\"color\":\"#506784\"},\"line\":{\"color\":\"rgb(17,17,17)\"}},\"header\":{\"fill\":{\"color\":\"#2a3f5f\"},\"line\":{\"color\":\"rgb(17,17,17)\"}},\"type\":\"table\"}],\"barpolar\":[{\"marker\":{\"line\":{\"color\":\"rgb(17,17,17)\",\"width\":0.5},\"pattern\":{\"fillmode\":\"overlay\",\"size\":10,\"solidity\":0.2}},\"type\":\"barpolar\"}],\"pie\":[{\"automargin\":true,\"type\":\"pie\"}]},\"layout\":{\"autotypenumbers\":\"strict\",\"colorway\":[\"#636efa\",\"#EF553B\",\"#00cc96\",\"#ab63fa\",\"#FFA15A\",\"#19d3f3\",\"#FF6692\",\"#B6E880\",\"#FF97FF\",\"#FECB52\"],\"font\":{\"color\":\"#f2f5fa\"},\"hovermode\":\"closest\",\"hoverlabel\":{\"align\":\"left\"},\"paper_bgcolor\":\"rgb(17,17,17)\",\"plot_bgcolor\":\"rgb(17,17,17)\",\"polar\":{\"bgcolor\":\"rgb(17,17,17)\",\"angularaxis\":{\"gridcolor\":\"#506784\",\"linecolor\":\"#506784\",\"ticks\":\"\"},\"radialaxis\":{\"gridcolor\":\"#506784\",\"linecolor\":\"#506784\",\"ticks\":\"\"}},\"ternary\":{\"bgcolor\":\"rgb(17,17,17)\",\"aaxis\":{\"gridcolor\":\"#506784\",\"linecolor\":\"#506784\",\"ticks\":\"\"},\"baxis\":{\"gridcolor\":\"#506784\",\"linecolor\":\"#506784\",\"ticks\":\"\"},\"caxis\":{\"gridcolor\":\"#506784\",\"linecolor\":\"#506784\",\"ticks\":\"\"}},\"coloraxis\":{\"colorbar\":{\"outlinewidth\":0,\"ticks\":\"\"}},\"colorscale\":{\"sequential\":[[0.0,\"#0d0887\"],[0.1111111111111111,\"#46039f\"],[0.2222222222222222,\"#7201a8\"],[0.3333333333333333,\"#9c179e\"],[0.4444444444444444,\"#bd3786\"],[0.5555555555555556,\"#d8576b\"],[0.6666666666666666,\"#ed7953\"],[0.7777777777777778,\"#fb9f3a\"],[0.8888888888888888,\"#fdca26\"],[1.0,\"#f0f921\"]],\"sequentialminus\":[[0.0,\"#0d0887\"],[0.1111111111111111,\"#46039f\"],[0.2222222222222222,\"#7201a8\"],[0.3333333333333333,\"#9c179e\"],[0.4444444444444444,\"#bd3786\"],[0.5555555555555556,\"#d8576b\"],[0.6666666666666666,\"#ed7953\"],[0.7777777777777778,\"#fb9f3a\"],[0.8888888888888888,\"#fdca26\"],[1.0,\"#f0f921\"]],\"diverging\":[[0,\"#8e0152\"],[0.1,\"#c51b7d\"],[0.2,\"#de77ae\"],[0.3,\"#f1b6da\"],[0.4,\"#fde0ef\"],[0.5,\"#f7f7f7\"],[0.6,\"#e6f5d0\"],[0.7,\"#b8e186\"],[0.8,\"#7fbc41\"],[0.9,\"#4d9221\"],[1,\"#276419\"]]},\"xaxis\":{\"gridcolor\":\"#283442\",\"linecolor\":\"#506784\",\"ticks\":\"\",\"title\":{\"standoff\":15},\"zerolinecolor\":\"#283442\",\"automargin\":true,\"zerolinewidth\":2},\"yaxis\":{\"gridcolor\":\"#283442\",\"linecolor\":\"#506784\",\"ticks\":\"\",\"title\":{\"standoff\":15},\"zerolinecolor\":\"#283442\",\"automargin\":true,\"zerolinewidth\":2},\"scene\":{\"xaxis\":{\"backgroundcolor\":\"rgb(17,17,17)\",\"gridcolor\":\"#506784\",\"linecolor\":\"#506784\",\"showbackground\":true,\"ticks\":\"\",\"zerolinecolor\":\"#C8D4E3\",\"gridwidth\":2},\"yaxis\":{\"backgroundcolor\":\"rgb(17,17,17)\",\"gridcolor\":\"#506784\",\"linecolor\":\"#506784\",\"showbackground\":true,\"ticks\":\"\",\"zerolinecolor\":\"#C8D4E3\",\"gridwidth\":2},\"zaxis\":{\"backgroundcolor\":\"rgb(17,17,17)\",\"gridcolor\":\"#506784\",\"linecolor\":\"#506784\",\"showbackground\":true,\"ticks\":\"\",\"zerolinecolor\":\"#C8D4E3\",\"gridwidth\":2}},\"shapedefaults\":{\"line\":{\"color\":\"#f2f5fa\"}},\"annotationdefaults\":{\"arrowcolor\":\"#f2f5fa\",\"arrowhead\":0,\"arrowwidth\":1},\"geo\":{\"bgcolor\":\"rgb(17,17,17)\",\"landcolor\":\"rgb(17,17,17)\",\"subunitcolor\":\"#506784\",\"showland\":true,\"showlakes\":true,\"lakecolor\":\"rgb(17,17,17)\"},\"title\":{\"x\":0.05},\"updatemenudefaults\":{\"bgcolor\":\"#506784\",\"borderwidth\":0},\"sliderdefaults\":{\"bgcolor\":\"#C8D4E3\",\"borderwidth\":1,\"bordercolor\":\"rgb(17,17,17)\",\"tickwidth\":0},\"mapbox\":{\"style\":\"dark\"}}}},                        {\"responsive\": true}                    ).then(function(){\n                            \nvar gd = document.getElementById('88b2c923-bab3-43dc-ae29-e680e5724a9d');\nvar x = new MutationObserver(function (mutations, observer) {{\n        var display = window.getComputedStyle(gd).display;\n        if (!display || display === 'none') {{\n            console.log([gd, 'removed!']);\n            Plotly.purge(gd);\n            observer.disconnect();\n        }}\n}});\n\n// Listen for the removal of the full notebook cells\nvar notebookContainer = gd.closest('#notebook-container');\nif (notebookContainer) {{\n    x.observe(notebookContainer, {childList: true});\n}}\n\n// Listen for the clearing of the current output cell\nvar outputEl = gd.closest('.output');\nif (outputEl) {{\n    x.observe(outputEl, {childList: true});\n}}\n\n                        })                };                });            </script>        </div>"
     },
     "metadata": {},
     "output_type": "display_data"
    }
   ],
   "source": [
    "fig = go.Figure([go.Scatter(x=apple_df['Date'], y=apple_df['Price'])])\n",
    "fig.show()"
   ],
   "metadata": {
    "collapsed": false,
    "pycharm": {
     "name": "#%%\n"
    }
   }
  },
  {
   "cell_type": "code",
   "execution_count": null,
   "outputs": [],
   "source": [],
   "metadata": {
    "collapsed": false,
    "pycharm": {
     "name": "#%%\n",
     "is_executing": true
    }
   }
  },
  {
   "cell_type": "code",
   "execution_count": null,
   "outputs": [],
   "source": [],
   "metadata": {
    "collapsed": false,
    "pycharm": {
     "name": "#%%\n"
    }
   }
  }
 ],
 "metadata": {
  "kernelspec": {
   "display_name": "Python 3",
   "language": "python",
   "name": "python3"
  },
  "language_info": {
   "codemirror_mode": {
    "name": "ipython",
    "version": 2
   },
   "file_extension": ".py",
   "mimetype": "text/x-python",
   "name": "python",
   "nbconvert_exporter": "python",
   "pygments_lexer": "ipython2",
   "version": "2.7.6"
  }
 },
 "nbformat": 4,
 "nbformat_minor": 0
}